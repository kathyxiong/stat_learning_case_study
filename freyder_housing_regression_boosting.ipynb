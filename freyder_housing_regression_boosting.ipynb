{
 "cells": [
  {
   "cell_type": "markdown",
   "metadata": {},
   "source": [
    "# Regression Analysis\n",
    "## Import packages and Data + Data Investigation"
   ]
  },
  {
   "cell_type": "code",
   "execution_count": 2,
   "metadata": {},
   "outputs": [],
   "source": [
    "import pandas as pd\n",
    "import numpy as np\n",
    "import matplotlib.pyplot as plt\n",
    "from sklearn import metrics\n",
    "from sklearn.impute import SimpleImputer\n",
    "from sklearn.model_selection import train_test_split\n",
    "from sklearn.linear_model import LinearRegression\n",
    "from sklearn.ensemble import AdaBoostRegressor\n",
    "from sklearn.ensemble import GradientBoostingRegressor\n",
    "from sklearn.model_selection import cross_val_score\n",
    "from sklearn.model_selection import train_test_split\n",
    "import seaborn as sns"
   ]
  },
  {
   "cell_type": "code",
   "execution_count": 12,
   "metadata": {},
   "outputs": [
    {
     "data": {
      "text/html": [
       "<div>\n",
       "<style scoped>\n",
       "    .dataframe tbody tr th:only-of-type {\n",
       "        vertical-align: middle;\n",
       "    }\n",
       "\n",
       "    .dataframe tbody tr th {\n",
       "        vertical-align: top;\n",
       "    }\n",
       "\n",
       "    .dataframe thead th {\n",
       "        text-align: right;\n",
       "    }\n",
       "</style>\n",
       "<table border=\"1\" class=\"dataframe\">\n",
       "  <thead>\n",
       "    <tr style=\"text-align: right;\">\n",
       "      <th></th>\n",
       "      <th>crim</th>\n",
       "      <th>zn</th>\n",
       "      <th>indus</th>\n",
       "      <th>chas</th>\n",
       "      <th>nox</th>\n",
       "      <th>rm</th>\n",
       "      <th>age</th>\n",
       "      <th>dis</th>\n",
       "      <th>rad</th>\n",
       "      <th>tax</th>\n",
       "      <th>ptratio</th>\n",
       "      <th>b</th>\n",
       "      <th>lstat</th>\n",
       "      <th>medv</th>\n",
       "    </tr>\n",
       "  </thead>\n",
       "  <tbody>\n",
       "    <tr>\n",
       "      <th>0</th>\n",
       "      <td>0.00632</td>\n",
       "      <td>18.0</td>\n",
       "      <td>2.31</td>\n",
       "      <td>0</td>\n",
       "      <td>0.538</td>\n",
       "      <td>6.575</td>\n",
       "      <td>65.2</td>\n",
       "      <td>4.0900</td>\n",
       "      <td>1</td>\n",
       "      <td>296</td>\n",
       "      <td>15.3</td>\n",
       "      <td>396.90</td>\n",
       "      <td>4.98</td>\n",
       "      <td>24.0</td>\n",
       "    </tr>\n",
       "    <tr>\n",
       "      <th>1</th>\n",
       "      <td>0.02731</td>\n",
       "      <td>0.0</td>\n",
       "      <td>7.07</td>\n",
       "      <td>0</td>\n",
       "      <td>0.469</td>\n",
       "      <td>6.421</td>\n",
       "      <td>78.9</td>\n",
       "      <td>4.9671</td>\n",
       "      <td>2</td>\n",
       "      <td>242</td>\n",
       "      <td>17.8</td>\n",
       "      <td>396.90</td>\n",
       "      <td>9.14</td>\n",
       "      <td>21.6</td>\n",
       "    </tr>\n",
       "    <tr>\n",
       "      <th>2</th>\n",
       "      <td>0.02729</td>\n",
       "      <td>0.0</td>\n",
       "      <td>7.07</td>\n",
       "      <td>0</td>\n",
       "      <td>0.469</td>\n",
       "      <td>7.185</td>\n",
       "      <td>61.1</td>\n",
       "      <td>4.9671</td>\n",
       "      <td>2</td>\n",
       "      <td>242</td>\n",
       "      <td>17.8</td>\n",
       "      <td>392.83</td>\n",
       "      <td>4.03</td>\n",
       "      <td>34.7</td>\n",
       "    </tr>\n",
       "    <tr>\n",
       "      <th>3</th>\n",
       "      <td>0.03237</td>\n",
       "      <td>0.0</td>\n",
       "      <td>2.18</td>\n",
       "      <td>0</td>\n",
       "      <td>0.458</td>\n",
       "      <td>6.998</td>\n",
       "      <td>45.8</td>\n",
       "      <td>6.0622</td>\n",
       "      <td>3</td>\n",
       "      <td>222</td>\n",
       "      <td>18.7</td>\n",
       "      <td>394.63</td>\n",
       "      <td>2.94</td>\n",
       "      <td>33.4</td>\n",
       "    </tr>\n",
       "    <tr>\n",
       "      <th>4</th>\n",
       "      <td>0.06905</td>\n",
       "      <td>0.0</td>\n",
       "      <td>2.18</td>\n",
       "      <td>0</td>\n",
       "      <td>0.458</td>\n",
       "      <td>7.147</td>\n",
       "      <td>54.2</td>\n",
       "      <td>6.0622</td>\n",
       "      <td>3</td>\n",
       "      <td>222</td>\n",
       "      <td>18.7</td>\n",
       "      <td>396.90</td>\n",
       "      <td>5.33</td>\n",
       "      <td>36.2</td>\n",
       "    </tr>\n",
       "  </tbody>\n",
       "</table>\n",
       "</div>"
      ],
      "text/plain": [
       "      crim    zn  indus  chas    nox     rm   age     dis  rad  tax  ptratio  \\\n",
       "0  0.00632  18.0   2.31     0  0.538  6.575  65.2  4.0900    1  296     15.3   \n",
       "1  0.02731   0.0   7.07     0  0.469  6.421  78.9  4.9671    2  242     17.8   \n",
       "2  0.02729   0.0   7.07     0  0.469  7.185  61.1  4.9671    2  242     17.8   \n",
       "3  0.03237   0.0   2.18     0  0.458  6.998  45.8  6.0622    3  222     18.7   \n",
       "4  0.06905   0.0   2.18     0  0.458  7.147  54.2  6.0622    3  222     18.7   \n",
       "\n",
       "        b  lstat  medv  \n",
       "0  396.90   4.98  24.0  \n",
       "1  396.90   9.14  21.6  \n",
       "2  392.83   4.03  34.7  \n",
       "3  394.63   2.94  33.4  \n",
       "4  396.90   5.33  36.2  "
      ]
     },
     "execution_count": 12,
     "metadata": {},
     "output_type": "execute_result"
    }
   ],
   "source": [
    "# read in student math performance data set\n",
    "#PC\n",
    "housing = pd.read_csv('data/boston_housing.csv')\n",
    "housing.isnull().sum()\n",
    "housing.head()"
   ]
  },
  {
   "cell_type": "code",
   "execution_count": 42,
   "metadata": {},
   "outputs": [
    {
     "data": {
      "text/plain": [
       "[404, 102]"
      ]
     },
     "execution_count": 42,
     "metadata": {},
     "output_type": "execute_result"
    }
   ],
   "source": [
    "# split into X and y\n",
    "y = housing['medv']\n",
    "X = housing.drop(['medv'], axis=1)\n",
    "\n",
    "# split into training and testing\n",
    "X_train, X_test, y_train, y_test = train_test_split(X, y, test_size=0.20, random_state=11)\n",
    "[y_train.size, y_test.size]"
   ]
  },
  {
   "cell_type": "markdown",
   "metadata": {},
   "source": [
    "## Linear Regression"
   ]
  },
  {
   "cell_type": "code",
   "execution_count": 72,
   "metadata": {},
   "outputs": [
    {
     "name": "stdout",
     "output_type": "stream",
     "text": [
      "Mean Absolute Error: 3.567326018996795\n",
      "Mean Squared Error: 26.944812249518147\n",
      "Root Mean Squared Error: 5.190839262539165\n",
      "coefficient of determination: 0.6859495577055561\n"
     ]
    }
   ],
   "source": [
    "#do simple linear regression and score against test data\n",
    "regressor = LinearRegression()  \n",
    "regressor.fit(X_train, y_train) #training the algorithm\n",
    "y_pred = regressor.predict(X_test)\n",
    "# score(X_test,y_test)\n",
    "print('Mean Absolute Error:', metrics.mean_absolute_error(y_test, y_pred))  \n",
    "print('Mean Squared Error:', metrics.mean_squared_error(y_test, y_pred))  \n",
    "print('Root Mean Squared Error:', np.sqrt(metrics.mean_squared_error(y_test, y_pred)))\n",
    "print('coefficient of determination:', regressor.score(X_test,y_test))"
   ]
  },
  {
   "cell_type": "markdown",
   "metadata": {},
   "source": [
    "## Boosting\n",
    "### Adaptive Boosting"
   ]
  },
  {
   "cell_type": "code",
   "execution_count": 45,
   "metadata": {},
   "outputs": [],
   "source": [
    "#fit many subsets of parametes for adaboost to see which is best subset\n",
    "scores_ada = []\n",
    "for learning in [1, 0.5, 0.25, 0.1, 0.05, 0.01]:\n",
    "    for n in [1, 2, 4, 8, 16, 32, 64, 100, 200]:\n",
    "        clf_a = AdaBoostRegressor(n_estimators=n, learning_rate=learning, random_state=0)\n",
    "        scores_a = cross_val_score(clf_a, X_train, y_train.values.ravel(), cv=10)\n",
    "        score = scores_a.mean()\n",
    "#         clf_a.fit(X_train, y_train)\n",
    "#         score = clf_a.score(X_test,y_test)\n",
    "        scores_ada.append([score, learning, n])"
   ]
  },
  {
   "cell_type": "code",
   "execution_count": 69,
   "metadata": {},
   "outputs": [],
   "source": [
    "#investigate fits through data and graphs \n",
    "scores_ada_df = pd.DataFrame(scores_ada)\n",
    "scores_ada_df.columns = ['r_sq', 'learn_rate', 'n_estimatores']\n",
    "learn_avg = scores_ada_df.groupby('learn_rate', as_index=False).mean()[['learn_rate','r_sq']]\n",
    "n_avg = scores_ada_df.groupby('n_estimatores', as_index=False).mean()[['n_estimatores','r_sq']]"
   ]
  },
  {
   "cell_type": "code",
   "execution_count": 71,
   "metadata": {},
   "outputs": [
    {
     "data": {
      "text/plain": [
       "Text(0.5, 1.0, 'AUC for Different Learning Rate')"
      ]
     },
     "execution_count": 71,
     "metadata": {},
     "output_type": "execute_result"
    },
    {
     "data": {
      "image/png": "[encoded data removed]",
      "text/plain": [
       "<Figure size 432x288 with 1 Axes>"
      ]
     },
     "metadata": {
      "needs_background": "light"
     },
     "output_type": "display_data"
    }
   ],
   "source": [
    "plt.plot(learn_avg.iloc[:,0], learn_avg.iloc[:,1], marker='o')\n",
    "plt.xlabel(\"Learning Rate\")\n",
    "plt.ylabel(\"AUC\")\n",
    "plt.title(\"AUC for Different Learning Rate\")"
   ]
  },
  {
   "cell_type": "code",
   "execution_count": 70,
   "metadata": {},
   "outputs": [
    {
     "data": {
      "text/plain": [
       "Text(0.5, 1.0, 'r-squared for Different Number of Estimators')"
      ]
     },
     "execution_count": 70,
     "metadata": {},
     "output_type": "execute_result"
    },
    {
     "data": {
      "image/png": "[encoded data removed]",
      "text/plain": [
       "<Figure size 432x288 with 1 Axes>"
      ]
     },
     "metadata": {
      "needs_background": "light"
     },
     "output_type": "display_data"
    }
   ],
   "source": [
    "plt.plot(n_avg.iloc[:,0], n_avg.iloc[:,1], marker='o')\n",
    "plt.xlabel(\"Number of Estimators\")\n",
    "plt.ylabel(\"r-sqared\")\n",
    "plt.title(\"r-squared for Different Number of Estimators\")"
   ]
  },
  {
   "cell_type": "code",
   "execution_count": 46,
   "metadata": {},
   "outputs": [
    {
     "name": "stdout",
     "output_type": "stream",
     "text": [
      "        r_sq  learn_rate  n_estimatores\n",
      "33  0.836394         0.1             64\n"
     ]
    }
   ],
   "source": [
    "#Find parametes for best fit\n",
    "max_r_sq = scores_ada_df['r_sq'].max()\n",
    "best_fit = scores_ada_df.loc[scores_ada_df['r_sq'] == max_r_sq]\n",
    "print(best_fit)"
   ]
  },
  {
   "cell_type": "code",
   "execution_count": 49,
   "metadata": {},
   "outputs": [
    {
     "data": {
      "text/plain": [
       "0.7040134512408971"
      ]
     },
     "execution_count": 49,
     "metadata": {},
     "output_type": "execute_result"
    }
   ],
   "source": [
    "#score best fit against test data\n",
    "clf_a = AdaBoostRegressor(n_estimators=64, learning_rate=.01, random_state=0)\n",
    "clf_a.fit(X_train, y_train)\n",
    "score = clf_a.score(X_test,y_test)\n",
    "score"
   ]
  },
  {
   "cell_type": "code",
   "execution_count": 55,
   "metadata": {},
   "outputs": [
    {
     "data": {
      "text/plain": [
       "array([0.09911705, 0.12898221, 0.1097906 , 0.10666131, 0.11414362,\n",
       "       0.16875667, 0.11146993, 0.13247571, 0.10503125, 0.10569511,\n",
       "       0.10510726, 0.1210179 , 0.10164395, 0.09874962, 0.09014434,\n",
       "       0.11196205, 0.09796078, 0.10370138, 0.11057817, 0.10956803,\n",
       "       0.10243631, 0.09905515, 0.10382598, 0.13461082, 0.11299562,\n",
       "       0.10338977, 0.17983959, 0.09321345, 0.08051093, 0.10653831,\n",
       "       0.14249452, 0.10736594, 0.13615257, 0.11279546, 0.18856606,\n",
       "       0.17616208, 0.10572875, 0.10815368, 0.10486684, 0.13833205,\n",
       "       0.11355697, 0.10172498, 0.09080584, 0.10194713, 0.1864555 ,\n",
       "       0.11404451, 0.12288687, 0.12558883, 0.18754206, 0.11021613,\n",
       "       0.09468905, 0.11211183, 0.14759885, 0.10785936, 0.18732162,\n",
       "       0.11524935, 0.11182785, 0.12665697, 0.1210242 , 0.09846136,\n",
       "       0.10880413, 0.11646094, 0.13968275, 0.12195198])"
      ]
     },
     "execution_count": 55,
     "metadata": {},
     "output_type": "execute_result"
    }
   ],
   "source": [
    "clf_a.estimator_errors_\n",
    "# errors = y_test - clf_a.estimator_errors_"
   ]
  },
  {
   "cell_type": "markdown",
   "metadata": {},
   "source": [
    "### Gradient Boosting"
   ]
  },
  {
   "cell_type": "code",
   "execution_count": 48,
   "metadata": {},
   "outputs": [],
   "source": [
    "#fit different subsets of parameters to find the best subset\n",
    "scores_grad = []\n",
    "for depth in [1,2,3,4,5]:\n",
    "    for learning in [1, 0.5, 0.25, 0.1, 0.05, 0.01]:\n",
    "        for n in [1, 2, 4, 8, 16, 32, 64, 100, 200]:\n",
    "            clf_g = GradientBoostingRegressor(n_estimators=n, learning_rate=learning, max_depth=depth, random_state=0)\n",
    "            scores_g = cross_val_score(clf_g, X_train, y_train.values.ravel(), cv=10)\n",
    "            score = np.absolute(scores_g).mean()\n",
    "            scores_grad.append([score,depth, learning, n])\n",
    "#             clf_g = GradientBoostingRegressor(n_estimators=n, learning_rate=learning, max_depth=depth, random_state=0)\n",
    "#             clf_g.fit(X_train, y_train)\n",
    "#             score = clf_g.score(X_test,y_test)\n",
    "#             scores_grad.append([score,depth, learning, n])"
   ]
  },
  {
   "cell_type": "code",
   "execution_count": 62,
   "metadata": {},
   "outputs": [],
   "source": [
    "scores_grad_df = pd.DataFrame(scores_grad)\n",
    "scores_grad_df.columns = ['r_sq','depth', 'learn_rate', 'n_estimatores']\n",
    "\n",
    "depth_avg = scores_grad_df.groupby('depth', as_index=False).mean()[['depth','r_sq']]\n",
    "learn_avg = scores_grad_df.groupby('learn_rate', as_index=False).mean()[['learn_rate','r_sq']]\n",
    "n_avg = scores_grad_df.groupby('n_estimatores', as_index=False).mean()[['n_estimatores','r_sq']]"
   ]
  },
  {
   "cell_type": "code",
   "execution_count": 63,
   "metadata": {},
   "outputs": [
    {
     "name": "stdout",
     "output_type": "stream",
     "text": [
      "   depth      r_sq\n",
      "0      1  0.530332\n",
      "1      2  0.607151\n",
      "2      3  0.612438\n",
      "3      4  0.629438\n",
      "4      5  0.626000\n",
      "   learn_rate      r_sq\n",
      "0        0.01  0.290273\n",
      "1        0.05  0.514363\n",
      "2        0.10  0.607701\n",
      "3        0.25  0.719047\n",
      "4        0.50  0.768507\n",
      "5        1.00  0.706540\n",
      "   n_estimatores      r_sq\n",
      "0              1  0.260727\n",
      "1              2  0.362127\n",
      "2              4  0.469077\n",
      "3              8  0.563972\n",
      "4             16  0.649315\n",
      "5             32  0.717374\n",
      "6             64  0.769367\n",
      "7            100  0.795672\n",
      "8            200  0.822014\n"
     ]
    }
   ],
   "source": [
    "#investigate scores through data and graphs \n",
    "print(depth_avg)\n",
    "print(learn_avg)\n",
    "print(n_avg)"
   ]
  },
  {
   "cell_type": "code",
   "execution_count": 64,
   "metadata": {},
   "outputs": [
    {
     "data": {
      "text/plain": [
       "Text(0.5, 1.0, 'r-squared for Different Tree Depths')"
      ]
     },
     "execution_count": 64,
     "metadata": {},
     "output_type": "execute_result"
    },
    {
     "data": {
      "image/png": "[encoded data removed]",
      "text/plain": [
       "<Figure size 432x288 with 1 Axes>"
      ]
     },
     "metadata": {
      "needs_background": "light"
     },
     "output_type": "display_data"
    }
   ],
   "source": [
    "plt.plot(depth_avg.iloc[:,0], depth_avg.iloc[:,1], marker='o')\n",
    "plt.xlabel(\"Tree Depth\")\n",
    "plt.ylabel(\"r-squared\")\n",
    "plt.title(\"r-squared for Different Tree Depths\")"
   ]
  },
  {
   "cell_type": "code",
   "execution_count": 61,
   "metadata": {},
   "outputs": [
    {
     "data": {
      "text/plain": [
       "Text(0.5, 1.0, 'r-squared for Different Learning Rate')"
      ]
     },
     "execution_count": 61,
     "metadata": {},
     "output_type": "execute_result"
    },
    {
     "data": {
      "image/png": "[encoded data removed]",
      "text/plain": [
       "<Figure size 432x288 with 1 Axes>"
      ]
     },
     "metadata": {
      "needs_background": "light"
     },
     "output_type": "display_data"
    }
   ],
   "source": [
    "plt.plot(learn_avg.iloc[:,0], learn_avg.iloc[:,1], marker='o')\n",
    "plt.xlabel(\"Learning Rate\")\n",
    "plt.ylabel(\"r-squared\")\n",
    "plt.title(\"r-squared for Different Learning Rate\")"
   ]
  },
  {
   "cell_type": "code",
   "execution_count": 67,
   "metadata": {},
   "outputs": [
    {
     "data": {
      "text/plain": [
       "Text(0.5, 1.0, 'r-squared for Different Number of Estimators')"
      ]
     },
     "execution_count": 67,
     "metadata": {},
     "output_type": "execute_result"
    },
    {
     "data": {
      "image/png": "[encoded data removed]",
      "text/plain": [
       "<Figure size 432x288 with 1 Axes>"
      ]
     },
     "metadata": {
      "needs_background": "light"
     },
     "output_type": "display_data"
    }
   ],
   "source": [
    "plt.plot(n_avg.iloc[:,0], n_avg.iloc[:,1], marker='o')\n",
    "plt.xlabel(\"Number of Estimators\")\n",
    "plt.ylabel(\"r-squared\")\n",
    "plt.title(\"r-squared for Different Number of Estimators\")"
   ]
  },
  {
   "cell_type": "code",
   "execution_count": 50,
   "metadata": {},
   "outputs": [
    {
     "name": "stdout",
     "output_type": "stream",
     "text": [
      "         r_sq  depth  learn_rate  n_estimatores\n",
      "143  0.886133      3         0.1            200\n"
     ]
    }
   ],
   "source": [
    "# Find parameters for best fit\n",
    "max_r_sq = scores_grad_df['r_sq'].max()\n",
    "best_fit = scores_grad_df.loc[scores_grad_df['r_sq'] == max_r_sq]\n",
    "print(best_fit)"
   ]
  },
  {
   "cell_type": "code",
   "execution_count": 51,
   "metadata": {},
   "outputs": [
    {
     "data": {
      "text/plain": [
       "0.8125934572759475"
      ]
     },
     "execution_count": 51,
     "metadata": {},
     "output_type": "execute_result"
    }
   ],
   "source": [
    "#Score best model against test data\n",
    "clf_g = GradientBoostingRegressor(n_estimators=200, learning_rate=.1, max_depth=3, random_state=0)\n",
    "clf_g.fit(X_train, y_train)\n",
    "score = clf_g.score(X_test,y_test)\n",
    "score"
   ]
  },
  {
   "cell_type": "code",
   "execution_count": null,
   "metadata": {},
   "outputs": [],
   "source": []
  }
 ],
 "metadata": {
  "kernelspec": {
   "display_name": "Python 3",
   "language": "python",
   "name": "python3"
  },
  "language_info": {
   "codemirror_mode": {
    "name": "ipython",
    "version": 3
   },
   "file_extension": ".py",
   "mimetype": "text/x-python",
   "name": "python",
   "nbconvert_exporter": "python",
   "pygments_lexer": "ipython3",
   "version": "3.7.3"
  }
 },
 "nbformat": 4,
 "nbformat_minor": 2
}
